{
 "cells": [
  {
   "cell_type": "markdown",
   "metadata": {},
   "source": [
    "# Lab4: Visualizing trends from Order History"
   ]
  },
  {
   "cell_type": "markdown",
   "metadata": {},
   "source": [
    "### Google Data Studio"
   ]
  },
  {
   "cell_type": "markdown",
   "metadata": {},
   "source": [
    "Google Data Studio is a cloud powered service that can be used to deliver insights into your data by combining many different data sources to quickly visualize your data. Visualizations that are created can be made into dashboards that the team can collaborate on. "
   ]
  },
  {
   "cell_type": "markdown",
   "metadata": {},
   "source": [
    "### Retreiving the Cloud SQL MySQL Database Host \n",
    "\n",
    "In this lab we will be importing sample inventory data, and order history from a CSV into a MySQL Database in Google Cloud SQL. To begin, make sure you are signed into your Google account and can access the [Google Cloud Console](https://console.cloud.google.com/).\n",
    "\n",
    "From the search bar at the top of the page, type in `SQL`. Click the **SQL** result to open the Cloud SQL console view.\n",
    "\n",
    "Observe the **inventory-db** MySQL instance that has been created for you by the Cloud Academy lab environment:\n",
    "\n",
    "![observe MySQL instance](assets/lab4/observe_instance.png)\n",
    "\n",
    "It can take 10 minutes from when you started the lab for the instance to reach the ready status.\n",
    "\n",
    "Copy the **Public IP address** and use it to overwrite the default `host` IP address in the code block in the following section."
   ]
  },
  {
   "cell_type": "markdown",
   "metadata": {},
   "source": [
    "#### Populating the Mock Data\n",
    "Use the Python code block below to populate our mock data into the Cloud SQL Database."
   ]
  },
  {
   "cell_type": "code",
   "execution_count": 7,
   "metadata": {
    "tags": []
   },
   "outputs": [
    {
     "output_type": "stream",
     "name": "stdout",
     "text": "Requirement already satisfied: mysql-connector in /Users/ca/Development/python-aws-sdk-samples/venv/lib/python3.7/site-packages (2.2.9)\n\u001b[33mYou are using pip version 19.0.3, however version 20.2b1 is available.\nYou should consider upgrading via the 'pip install --upgrade pip' command.\u001b[0m\nDatabase setup complete.\nSuccess! Inventory Data inserted\nSuccess! Order History Data inserted\nSuccess! Orders Data inserted\n"
    }
   ],
   "source": [
    "! pip install mysql-connector\n",
    "\n",
    "import mysql.connector, csv\n",
    "## Make sure the Host matches your Cloud SQL instance\n",
    "host=\"34.69.195.240\"\n",
    "mydb = mysql.connector.connect(\n",
    "  host=host, \n",
    "  user=\"root\",\n",
    "  passwd=\"demotest123\"\n",
    ")\n",
    "\n",
    "cursor = mydb.cursor()\n",
    "cursor.execute(\"CREATE DATABASE IF NOT EXISTS inventory_datastudio\")\n",
    "mydb.database = \"inventory_datastudio\"\n",
    "cursor.execute(\"CREATE TABLE IF NOT EXISTS product_table (ProductName varchar(50),Description varchar(255),ProductSku bigint(12),QuantityInStock int(5),ReorderLevel int(5),WholeSaleCost decimal(8,2),RetailCost decimal(8,2));\")\n",
    "cursor.execute(\"CREATE TABLE IF NOT EXISTS order_history (CustomerName varchar(50),OrderDate varchar(255),OrderId bigint(12));\")\n",
    "cursor.execute(\"CREATE TABLE IF NOT EXISTS orders (OrderId bigint(12),ProductSku bigint(12), Price decimal(8,2));\")\n",
    "cursor.execute(\"CREATE VIEW orders_and_order_history AS SELECT t1.CustomerName, t1.OrderDate, t2.OrderId, t2.ProductSku, t2.Price FROM order_history t1, orders t2 WHERE t1.OrderId = t2.OrderId\")\n",
    "\n",
    "print(\"Database setup complete.\")\n",
    "with open('./data_files/Lab4_Inventory.csv') as datafile:\n",
    "    csv_data = csv.reader(datafile)\n",
    "    next(csv_data) \n",
    "    for row in csv_data:\n",
    "        cursor.execute (\"INSERT INTO product_table (ProductName,Description,ProductSku,QuantityInStock,ReorderLevel,WholeSaleCost,RetailCost) VALUES (%s, %s, %s, %s, %s, %s, %s)\",row)\n",
    "    mydb.commit()\n",
    "print(\"Success! Inventory Data inserted\")\n",
    "\n",
    "with open('./data_files/OrderHistory.csv') as datafile:\n",
    "    csv_data = csv.reader(datafile)\n",
    "    next(csv_data) \n",
    "    for row in csv_data:\n",
    "        cursor.execute (\"INSERT INTO order_history (CustomerName, OrderDate, OrderId) VALUES (%s, %s, %s)\",row)\n",
    "    mydb.commit()\n",
    "print(\"Success! Order History Data inserted\")\n",
    "\n",
    "with open('./data_files/Orders.csv') as datafile:\n",
    "    csv_data = csv.reader(datafile)\n",
    "    next(csv_data) \n",
    "    for row in csv_data:\n",
    "        cursor.execute (\"INSERT INTO orders (OrderId, ProductSku, Price) VALUES (%s, %s, %s)\",row)\n",
    "    mydb.commit()\n",
    "print(\"Success! Orders Data inserted\")\n",
    "\n",
    "\n",
    "mydb.close() "
   ]
  },
  {
   "cell_type": "markdown",
   "metadata": {},
   "source": [
    "#### **Lab:** Getting Started in GCP Data Studio\n",
    "1. First [Navigate to Data Studio](https://datastudio.google.com/u/1/navigation/reporting)\n",
    "\n",
    "2. Next click `Blank Report`  \n",
    "![BlankReport](./assets/lab4/lab4_blank_report.png)\n",
    "\n",
    "3. Navigate and Find `MySql` then enter the appropriate hostname, username, and password.  Select the orders_and_order_history view.  \n",
    "![Authenticate](./assets/lab4/lab4_sql_authenticate.png)\n",
    "\n",
    "4. Click `Add to Report` to add the data into the report.\n",
    "\n",
    "5. Next we will create a quick report on which customer's had the most expensive orders. On right most bar you can select both the dimension and metric.  For the dimension select `Customer Name` and for the metric select `Sum - Price`  \n",
    "![Report](./assets/lab4/lab4_dimension_metric.png)\n",
    "\n",
    "6. Take a look at the results, we can see John Smith had the largest Order.  \n",
    "![Order Chart](./assets/lab4/lab4_results.png)\n",
    "\n",
    "Play around with some of the other dimensions to understand some insights of the order table."
   ]
  },
  {
   "cell_type": "markdown",
   "metadata": {},
   "source": [
    "#### **Lab:** Finding the Most Commonly Sold Product\n",
    "\n",
    "In this lab we will add a separate table, perform data blending to join from the inventory table to the `orders_and_order_history` view, and find out which product we sell the most.\n",
    "\n",
    "1) Select `Add Data` to add another table to Data Studio.\n",
    "\n",
    "![Add Data](./assets/lab4/lab4_add_data.png)\n",
    "\n",
    "2) Add a `MySql` data source.  Enter the database and connection details similar to above.\n",
    "\n",
    "3) This time select `product_table` when it comes time to adding a table into the report.\n",
    "\n",
    "4) Select `Blend Data` to open the blend data wizard.\n",
    "\n",
    "![Blend Data](./assets/lab4/lab4_blend.png)\n",
    "\n",
    "5) Click `Add Another Data Source` and add the recently added table from the previous steps.  Ensure the join keys have `ProductSku` and that the inventory table has `ProductName` included.  Ensure in the `orders_and_order_history` datastore has count selected for `ProductSku`\n",
    "\n",
    "![datasource blending](./assets/lab4/lab4_datasources.png)\n",
    "\n",
    "6) Modify the chart to have a dimension of `ProductName`, a metric of count for `ProductSku` , and a sort by `ProductSku` _descending_.\n",
    "\n",
    "![graph creation](./assets/lab4/lab4_most_sold_products.png)\n",
    "\n",
    "We have successfully created a chart that shows are most sold products!  Your graph should look similar to below.\n",
    "\n",
    "![most sold products](./assets/lab4/lab4_productcount.png)"
   ]
  },
  {
   "cell_type": "markdown",
   "metadata": {},
   "source": [
    "#### **Lab:** Other Insights on Data\n",
    "\n",
    "1) Select `Add Data` to add another table to Data Studio.\n",
    "\n",
    "![Add Data](./assets/lab4/lab4_add_data.png)\n",
    "\n",
    "2) Select `My data sources` and find the previously added inventory data.\n",
    "\n",
    "3) Modify the chart to find the most expensive product that is sold.\n",
    "\n",
    "![Most expensive product](./assets/lab4/lab4_most_expensive.png)\n",
    "\n",
    "4) Next we will find the total retail value of our inventory.  Select `Add a chart`\n",
    "\n",
    "![add chart](./assets/lab4/lab4_add_chart.png)\n",
    "\n",
    "5) Select `Scorecard`\n",
    "\n",
    "6) Customize it to get the Sum of Retail Cost.\n",
    "\n",
    "![sum chart](./assets/lab4/lab4_chart_sum.png)"
   ]
  }
 ],
 "metadata": {
  "environment": {
   "name": "common-cpu.m49",
   "type": "gcloud",
   "uri": "gcr.io/deeplearning-platform-release/base-cpu:m49"
  },
  "kernelspec": {
   "display_name": "Python 3",
   "language": "python",
   "name": "python3"
  },
  "language_info": {
   "codemirror_mode": {
    "name": "ipython",
    "version": 3
   },
   "file_extension": ".py",
   "mimetype": "text/x-python",
   "name": "python",
   "nbconvert_exporter": "python",
   "pygments_lexer": "ipython3",
   "version": "3.7.6"
  }
 },
 "nbformat": 4,
 "nbformat_minor": 4
}