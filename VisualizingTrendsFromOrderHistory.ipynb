{
 "cells": [
  {
   "cell_type": "markdown",
   "metadata": {},
   "source": [
    "# Lab4: Visualizing trends from Order History"
   ]
  },
  {
   "cell_type": "markdown",
   "metadata": {},
   "source": [
    "### Google Data Studio"
   ]
  },
  {
   "cell_type": "markdown",
   "metadata": {},
   "source": [
    "Google Data Studio is a cloud powered service that can be used to deliver insights into your data by combining many different data sources to quickly visualize your data. Visualizations that are created can be made into dashboards that the team can collaborate on. "
   ]
  },
  {
   "cell_type": "markdown",
   "metadata": {},
   "source": [
    "### Retreiving the Cloud SQL MySQL Database Host \n",
    "\n",
    "In this lab we will be importing sample inventory data, and order history from a CSV into a MySQL Database in Google Cloud SQL. To begin, make sure you are signed into your Google account and can access the [Google Cloud Console](https://console.cloud.google.com/).\n",
    "\n",
    "From the search bar at the top of the page, type in `SQL`. Click the **SQL** result to open the Cloud SQL console view.\n",
    "\n",
    "Observe the **inventory-db** MySQL instance that has been created for you by the Cloud Academy lab environment:\n",
    "\n",
    "![observe MySQL instance](assets/lab4/20250422144021.png)\n",
    "\n",
    "*Note*: You must wait until the green checkmark appears next to the database. It can take 20 minutes from when you started the lab for the instance to reach the ready status.\n",
    "\n",
    "Copy the **Public IP address** and use it to overwrite the default `host` IP address in the code block in the following section."
   ]
  },
  {
   "cell_type": "markdown",
   "metadata": {},
   "source": [
    "#### Populating the Mock Data\n",
    "Use the Python code block below to populate our mock data into the Cloud SQL Database.\n",
    "\n",
    "Replace the **REPLACE_ME** placeholder below with the **Public IP address** of your Cloud SQL instance. "
   ]
  },
  {
   "cell_type": "code",
   "execution_count": null,
   "metadata": {
    "tags": []
   },
   "outputs": [],
   "source": [
    "! pip install mysql-connector-python\n",
    "\n",
    "import mysql.connector, csv\n",
    "## Make sure the Host matches your Cloud SQL instance\n",
    "host=\"REPLACE_ME\"\n",
    "mydb = mysql.connector.connect(\n",
    "  host=host, \n",
    "  user=\"root\",\n",
    "  passwd=\"demotest123\"\n",
    ")\n",
    "\n",
    "cursor = mydb.cursor()\n",
    "cursor.execute(\"CREATE DATABASE IF NOT EXISTS inventory_datastudio\")\n",
    "mydb.database = \"inventory_datastudio\"\n",
    "cursor.execute(\"CREATE TABLE IF NOT EXISTS product_table (ProductName varchar(50),Description varchar(255),ProductSku bigint(12),QuantityInStock int(5),ReorderLevel int(5),WholeSaleCost decimal(8,2),RetailCost decimal(8,2));\")\n",
    "cursor.execute(\"CREATE TABLE IF NOT EXISTS order_history (CustomerName varchar(50),OrderDate varchar(255),OrderId bigint(12));\")\n",
    "cursor.execute(\"CREATE TABLE IF NOT EXISTS orders (OrderId bigint(12),ProductSku bigint(12), Price decimal(8,2));\")\n",
    "cursor.execute(\"CREATE VIEW orders_and_order_history AS SELECT t1.CustomerName, t1.OrderDate, t2.OrderId, t2.ProductSku, t2.Price FROM order_history t1, orders t2 WHERE t1.OrderId = t2.OrderId\")\n",
    "\n",
    "print(\"Database setup complete.\")\n",
    "with open('./data_files/Lab4_Inventory.csv') as datafile:\n",
    "    csv_data = csv.reader(datafile)\n",
    "    next(csv_data) \n",
    "    for row in csv_data:\n",
    "        cursor.execute (\"INSERT INTO product_table (ProductName,Description,ProductSku,QuantityInStock,ReorderLevel,WholeSaleCost,RetailCost) VALUES (%s, %s, %s, %s, %s, %s, %s)\",row)\n",
    "    mydb.commit()\n",
    "print(\"Success! Inventory Data inserted\")\n",
    "\n",
    "with open('./data_files/OrderHistory.csv') as datafile:\n",
    "    csv_data = csv.reader(datafile)\n",
    "    next(csv_data) \n",
    "    for row in csv_data:\n",
    "        cursor.execute (\"INSERT INTO order_history (CustomerName, OrderDate, OrderId) VALUES (%s, %s, %s)\",row)\n",
    "    mydb.commit()\n",
    "print(\"Success! Order History Data inserted\")\n",
    "\n",
    "with open('./data_files/Orders.csv') as datafile:\n",
    "    csv_data = csv.reader(datafile)\n",
    "    next(csv_data) \n",
    "    for row in csv_data:\n",
    "        cursor.execute (\"INSERT INTO orders (OrderId, ProductSku, Price) VALUES (%s, %s, %s)\",row)\n",
    "    mydb.commit()\n",
    "print(\"Success! Orders Data inserted\")\n",
    "\n",
    "\n",
    "mydb.close() "
   ]
  },
  {
   "cell_type": "markdown",
   "metadata": {},
   "source": [
    "#### **Lab:** Getting Started in GCP Data Studio\n",
    "1. First [Navigate to Data Studio](https://datastudio.google.com/u/1/navigation/reporting).\n",
    "\n",
    "2. Next click `Blank Report`.\n",
    "\n",
    "![BlankReport](./assets/lab4/lab4_blank_report.png)\n",
    "\n",
    "3. If prompted, configure the following in the account setup popup, clicking **continue** to proceed:\n",
    "\n",
    "    - **Country**: Enter your country\n",
    "    - **Company**: Enter *student*\n",
    "    - Select **No** to the following updates:\n",
    "        - **Tips and recommendations**: No\n",
    "        - **Product announcements**: No\n",
    "        - **Market research**: No\n",
    "\n",
    "    ![](assets/20250422144434.png)\n",
    "    \n",
    "    ![](assets/20250422144534.png)\n",
    "\n",
    "    Repeat the previous lab step if you are redirected to the Data Studio home page.\n",
    "\n",
    "4. Navigate and find `MySql` in the Connect to data form that appears.\n",
    "\n",
    "5. If prompted, click Authorize and select your lab user in the pop-up authorization form to allow Data Studio to connect to the data.\n",
    "\n",
    "6. Enter the following in the `BASIC` tab to connect to the database:\n",
    "    \n",
    "    - **Host Name or IP**: Enter the public IP address from Cloud SQL\n",
    "    - **Database**: _inventory_datastudio_\n",
    "    - **Username**: _root_\n",
    "    - **Password**: _demotest123_\n",
    "\n",
    "7. Click `Authenticate` and select the `orders_and_order_history` view.  \n",
    "![Authenticate](assets/20250422145621.png)\n",
    "\n",
    "8. Click `Add` and, if prompted, `Add to report` in the pop-up to add the data into the report.\n",
    "\n",
    "9. Next we will create a quick report on which customer's had the most expensive orders. On the rightmost bar you can select both the dimension and metric.\n",
    "\n",
    "10. Drag the **CustomerName** field from the **Data** sidebar onto the canvas. This will create a chart named CustomerName:\n",
    "\n",
    "![](assets/20250422150154.png)\n",
    "\n",
    "11. With the chart still selected, click **Add metric** in the **Chart** panel and select **Price**:\n",
    "\n",
    "![](assets/20250422150258.png)\n",
    "\n",
    "![](assets/20250422150312.png)\n",
    "\n",
    "The chart will update with each customers total order price.\n",
    "\n",
    "12. Take a look at the results, we can see John Smith had the largest order.  \n",
    "\n",
    "Feel free to adjust the other dimensions to understand some insights of the order table."
   ]
  },
  {
   "cell_type": "markdown",
   "metadata": {},
   "source": [
    "#### **Lab:** Finding the Most Commonly Sold Product\n",
    "\n",
    "In this lab we will add a separate table, perform data blending to join from the inventory table to the `orders_and_order_history` view, and find out which product we sell the most.\n",
    "\n",
    "1) Select `Add Data` to add another table to Data Studio.\n",
    "\n",
    "![Add Data](./assets/lab4/lab4_add_data.png)\n",
    "![](assets/20250422150454.png)\n",
    "\n",
    "2) Add a `MySql` data source.  Enter the same database configuration as before, then click **Authenticate**.\n",
    "\n",
    "3) This time select `product_table`, followed by **Add**.\n",
    "\n",
    "4) Click **Manage blends** from the **Resource** menu, and click **Add a blend**:\n",
    "\n",
    "![](assets/20250422150946.png)\n",
    "\n",
    "![](assets/20250422150955.png)\n",
    "\n",
    "5) Select `Blend Data` to open the blend data wizard.\n",
    "\n",
    "![Blend Data](./assets/lab4/lab4_blend.png)\n",
    "\n",
    "6) Click `Join another table` and add the recently added table from the previous steps.  Ensure the join keys have `ProductSku` and that the inventory table has `ProductName` included.  Ensure in the `orders_and_order_history` datastore has count selected for `ProductSku`. Click `Configure join` and ensure `Left outer` is selected and `ProductSku Table 1` and `ProductSku Table 2` are listed as `Join conditions`.\n",
    "\n",
    "![datasource join](./assets/lab4/lab4_join_config.png)\n",
    "\n",
    "![](assets/20250422151411.png)\n",
    "\n",
    "7) Click `Save`\n",
    "\n",
    "8) Create a new chart with the dimensions, `ProductName` and `ProductSku`, a metric of sum for `ProductSku` , and a sort by `ProductSku` _descending_.\n",
    "\n",
    "![](assets/20250422151900.png)\n",
    "\n",
    "We have successfully created a chart that shows are most sold products!  Your graph should look similar to below.\n",
    "\n",
    "![](assets/20250422151924.png)"
   ]
  },
  {
   "cell_type": "markdown",
   "metadata": {},
   "source": [
    "#### **Lab:** Other Insights on Data\n",
    "\n",
    "1) Click **Manage blends** from the **Resource** menu, and click **Remove**, followed by **Remove blend** to delete the blended data source:\n",
    "\n",
    "![](assets/20250422152229.png)\n",
    "\n",
    "![Add Data](./assets/lab4/lab4_remove_blended.png)\n",
    "\n",
    "2) Click `Select data source` and choose the 1st MySQL data source in the list representing the products table you added.\n",
    "\n",
    "![Select data source](./assets/lab4/lab4_prior_data_source.png)\n",
    "\n",
    "3) Attempt to create the following chart to find the most expensive product that is sold:\n",
    "\n",
    "![Most expensive product](./assets/lab4/lab4_most_expensive.png)\n",
    "\n",
    "Review the following setup to ensure your chart is correct:\n",
    "\n",
    "![](assets/20250422152720.png)\n",
    "\n",
    "4) Next we will find the total retail value of our inventory.  Select `Add a chart` above the editor:\n",
    "\n",
    "![add chart](./assets/lab4/lab4_add_chart.png)\n",
    "\n",
    "5) Select the `Total` type `Scorecard`:\n",
    "\n",
    "![](assets/20250422152828.png)\n",
    "\n",
    "6) The scorecard chart will default to the `RetailCost` metric.\n",
    "\n",
    "![sum chart](./assets/lab4/lab4_chart_sum.png)"
   ]
  },
  {
   "cell_type": "markdown",
   "metadata": {},
   "source": [
    "### Cleaning Up\n",
    "\n",
    "For the sake of this lab, when you are finished exploring the data in data studio, you will clean up the Google Data Studio envrionment. That is because the Cloud SQL database is deleted once the lab session ends, making the reports and data sources unusable in Data Studio.\n",
    "\n",
    "1. Click the Data Studio icon in the upper-left corner to return to the Data Studio home view.\n",
    "\n",
    "![](assets/20250422153002.png)\n",
    "\n",
    "2. Click the three dots to the right of your report followed by `Remove`.\n",
    "\n",
    "![Remove report](./assets/lab4/lab4_remove_report.png)\n",
    "\n",
    "3. Similarly, remove the two data sources on the `Data sources` tab.\n",
    "\n",
    "4. The report and data sources are moved to the `Trash` as a result. To permanantly delete them, open the trash and click `Delete forever` for all of the items."
   ]
  }
 ],
 "metadata": {
  "environment": {
   "name": "common-cpu.m49",
   "type": "gcloud",
   "uri": "gcr.io/deeplearning-platform-release/base-cpu:m49"
  },
  "kernelspec": {
   "display_name": "Python 3.9.12 64-bit",
   "language": "python",
   "name": "python3"
  },
  "language_info": {
   "codemirror_mode": {
    "name": "ipython",
    "version": 3
   },
   "file_extension": ".py",
   "mimetype": "text/x-python",
   "name": "python",
   "nbconvert_exporter": "python",
   "pygments_lexer": "ipython3",
   "version": "3.9.12"
  },
  "vscode": {
   "interpreter": {
    "hash": "b0fa6594d8f4cbf19f97940f81e996739fb7646882a419484c72d19e05852a7e"
   }
  }
 },
 "nbformat": 4,
 "nbformat_minor": 4
}
