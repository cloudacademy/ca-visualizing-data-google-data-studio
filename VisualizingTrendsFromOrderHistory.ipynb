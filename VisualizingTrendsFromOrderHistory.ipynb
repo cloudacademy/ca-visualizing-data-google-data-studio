{
 "cells": [
  {
   "cell_type": "markdown",
   "metadata": {},
   "source": [
    "# Lab4: Visualizing trends from Order History"
   ]
  },
  {
   "cell_type": "markdown",
   "metadata": {},
   "source": [
    "### Google Data Studio"
   ]
  },
  {
   "cell_type": "markdown",
   "metadata": {},
   "source": [
    "Google Data Studio is a cloud powered service that can be used to deliver insights into your data by combining many different data sources to quickly visualize your data. Visualizations that are created can be made into dashboards that the team can collaborate on. "
   ]
  },
  {
   "cell_type": "markdown",
   "metadata": {},
   "source": [
    "### Retreiving the Cloud SQL MySQL Database Host \n",
    "\n",
    "In this lab we will be importing sample inventory data, and order history from a CSV into a MySQL Database in Google Cloud SQL. To begin, make sure you are signed into your Google account and can access the [Google Cloud Console](https://console.cloud.google.com/).\n",
    "\n",
    "From the search bar at the top of the page, type in `SQL`. Click the **SQL** result to open the Cloud SQL console view.\n",
    "\n",
    "Observe the **inventory-db** MySQL instance that has been created for you by the Cloud Academy lab environment:\n",
    "\n",
    "![observe MySQL instance](assets/lab4/observe_instance.png)\n",
    "\n",
    "It can take 10 minutes from when you started the lab for the instance to reach the ready status.\n",
    "\n",
    "Copy the **Public IP address** and use it to overwrite the default `host` IP address in the code block in the following section."
   ]
  },
  {
   "cell_type": "markdown",
   "metadata": {},
   "source": [
    "#### Populating the Mock Data\n",
    "Use the Python code block below to populate our mock data into the Cloud SQL Database."
   ]
  },
  {
   "cell_type": "code",
   "execution_count": 25,
   "metadata": {},
   "outputs": [
    {
     "name": "stdout",
     "output_type": "stream",
     "text": [
      "Requirement already satisfied: mysql-connector in /opt/conda/lib/python3.7/site-packages (2.2.9)\n"
     ]
    },
    {
     "ename": "ProgrammingError",
     "evalue": "1050 (42S01): Table 'orders_and_order_history' already exists",
     "output_type": "error",
     "traceback": [
      "\u001b[0;31m---------------------------------------------------------------------------\u001b[0m",
      "\u001b[0;31mProgrammingError\u001b[0m                          Traceback (most recent call last)",
      "\u001b[0;32m<ipython-input-25-32a1c267ee6b>\u001b[0m in \u001b[0;36m<module>\u001b[0;34m\u001b[0m\n\u001b[1;32m     15\u001b[0m \u001b[0mcursor\u001b[0m\u001b[0;34m.\u001b[0m\u001b[0mexecute\u001b[0m\u001b[0;34m(\u001b[0m\u001b[0;34m\"CREATE TABLE IF NOT EXISTS order_history (CustomerName varchar(50),OrderDate varchar(255),OrderId bigint(12));\"\u001b[0m\u001b[0;34m)\u001b[0m\u001b[0;34m\u001b[0m\u001b[0;34m\u001b[0m\u001b[0m\n\u001b[1;32m     16\u001b[0m \u001b[0mcursor\u001b[0m\u001b[0;34m.\u001b[0m\u001b[0mexecute\u001b[0m\u001b[0;34m(\u001b[0m\u001b[0;34m\"CREATE TABLE IF NOT EXISTS orders (OrderId bigint(12),ProductSku bigint(12), Price decimal(8,2));\"\u001b[0m\u001b[0;34m)\u001b[0m\u001b[0;34m\u001b[0m\u001b[0;34m\u001b[0m\u001b[0m\n\u001b[0;32m---> 17\u001b[0;31m \u001b[0mcursor\u001b[0m\u001b[0;34m.\u001b[0m\u001b[0mexecute\u001b[0m\u001b[0;34m(\u001b[0m\u001b[0;34m\"CREATE VIEW orders_and_order_history AS SELECT t1.CustomerName, t1.OrderDate, t2.OrderId, t2.ProductSku, t2.Price FROM order_history t1, orders t2 WHERE t1.OrderId = t2.OrderId\"\u001b[0m\u001b[0;34m)\u001b[0m\u001b[0;34m\u001b[0m\u001b[0;34m\u001b[0m\u001b[0m\n\u001b[0m\u001b[1;32m     18\u001b[0m \u001b[0;34m\u001b[0m\u001b[0m\n\u001b[1;32m     19\u001b[0m \u001b[0mprint\u001b[0m\u001b[0;34m(\u001b[0m\u001b[0;34m\"Database setup complete.\"\u001b[0m\u001b[0;34m)\u001b[0m\u001b[0;34m\u001b[0m\u001b[0;34m\u001b[0m\u001b[0m\n",
      "\u001b[0;32m/opt/conda/lib/python3.7/site-packages/mysql/connector/cursor.py\u001b[0m in \u001b[0;36mexecute\u001b[0;34m(self, operation, params, multi)\u001b[0m\n\u001b[1;32m    549\u001b[0m         \u001b[0;32melse\u001b[0m\u001b[0;34m:\u001b[0m\u001b[0;34m\u001b[0m\u001b[0;34m\u001b[0m\u001b[0m\n\u001b[1;32m    550\u001b[0m             \u001b[0;32mtry\u001b[0m\u001b[0;34m:\u001b[0m\u001b[0;34m\u001b[0m\u001b[0;34m\u001b[0m\u001b[0m\n\u001b[0;32m--> 551\u001b[0;31m                 \u001b[0mself\u001b[0m\u001b[0;34m.\u001b[0m\u001b[0m_handle_result\u001b[0m\u001b[0;34m(\u001b[0m\u001b[0mself\u001b[0m\u001b[0;34m.\u001b[0m\u001b[0m_connection\u001b[0m\u001b[0;34m.\u001b[0m\u001b[0mcmd_query\u001b[0m\u001b[0;34m(\u001b[0m\u001b[0mstmt\u001b[0m\u001b[0;34m)\u001b[0m\u001b[0;34m)\u001b[0m\u001b[0;34m\u001b[0m\u001b[0;34m\u001b[0m\u001b[0m\n\u001b[0m\u001b[1;32m    552\u001b[0m             \u001b[0;32mexcept\u001b[0m \u001b[0merrors\u001b[0m\u001b[0;34m.\u001b[0m\u001b[0mInterfaceError\u001b[0m\u001b[0;34m:\u001b[0m\u001b[0;34m\u001b[0m\u001b[0;34m\u001b[0m\u001b[0m\n\u001b[1;32m    553\u001b[0m                 \u001b[0;32mif\u001b[0m \u001b[0mself\u001b[0m\u001b[0;34m.\u001b[0m\u001b[0m_connection\u001b[0m\u001b[0;34m.\u001b[0m\u001b[0m_have_next_result\u001b[0m\u001b[0;34m:\u001b[0m  \u001b[0;31m# pylint: disable=W0212\u001b[0m\u001b[0;34m\u001b[0m\u001b[0;34m\u001b[0m\u001b[0m\n",
      "\u001b[0;32m/opt/conda/lib/python3.7/site-packages/mysql/connector/connection.py\u001b[0m in \u001b[0;36mcmd_query\u001b[0;34m(self, query, raw, buffered, raw_as_string)\u001b[0m\n\u001b[1;32m    488\u001b[0m         \u001b[0;32mif\u001b[0m \u001b[0;32mnot\u001b[0m \u001b[0misinstance\u001b[0m\u001b[0;34m(\u001b[0m\u001b[0mquery\u001b[0m\u001b[0;34m,\u001b[0m \u001b[0mbytes\u001b[0m\u001b[0;34m)\u001b[0m\u001b[0;34m:\u001b[0m\u001b[0;34m\u001b[0m\u001b[0;34m\u001b[0m\u001b[0m\n\u001b[1;32m    489\u001b[0m             \u001b[0mquery\u001b[0m \u001b[0;34m=\u001b[0m \u001b[0mquery\u001b[0m\u001b[0;34m.\u001b[0m\u001b[0mencode\u001b[0m\u001b[0;34m(\u001b[0m\u001b[0;34m'utf-8'\u001b[0m\u001b[0;34m)\u001b[0m\u001b[0;34m\u001b[0m\u001b[0;34m\u001b[0m\u001b[0m\n\u001b[0;32m--> 490\u001b[0;31m         \u001b[0mresult\u001b[0m \u001b[0;34m=\u001b[0m \u001b[0mself\u001b[0m\u001b[0;34m.\u001b[0m\u001b[0m_handle_result\u001b[0m\u001b[0;34m(\u001b[0m\u001b[0mself\u001b[0m\u001b[0;34m.\u001b[0m\u001b[0m_send_cmd\u001b[0m\u001b[0;34m(\u001b[0m\u001b[0mServerCmd\u001b[0m\u001b[0;34m.\u001b[0m\u001b[0mQUERY\u001b[0m\u001b[0;34m,\u001b[0m \u001b[0mquery\u001b[0m\u001b[0;34m)\u001b[0m\u001b[0;34m)\u001b[0m\u001b[0;34m\u001b[0m\u001b[0;34m\u001b[0m\u001b[0m\n\u001b[0m\u001b[1;32m    491\u001b[0m \u001b[0;34m\u001b[0m\u001b[0m\n\u001b[1;32m    492\u001b[0m         \u001b[0;32mif\u001b[0m \u001b[0mself\u001b[0m\u001b[0;34m.\u001b[0m\u001b[0m_have_next_result\u001b[0m\u001b[0;34m:\u001b[0m\u001b[0;34m\u001b[0m\u001b[0;34m\u001b[0m\u001b[0m\n",
      "\u001b[0;32m/opt/conda/lib/python3.7/site-packages/mysql/connector/connection.py\u001b[0m in \u001b[0;36m_handle_result\u001b[0;34m(self, packet)\u001b[0m\n\u001b[1;32m    393\u001b[0m             \u001b[0;32mreturn\u001b[0m \u001b[0mself\u001b[0m\u001b[0;34m.\u001b[0m\u001b[0m_handle_eof\u001b[0m\u001b[0;34m(\u001b[0m\u001b[0mpacket\u001b[0m\u001b[0;34m)\u001b[0m\u001b[0;34m\u001b[0m\u001b[0;34m\u001b[0m\u001b[0m\n\u001b[1;32m    394\u001b[0m         \u001b[0;32melif\u001b[0m \u001b[0mpacket\u001b[0m\u001b[0;34m[\u001b[0m\u001b[0;36m4\u001b[0m\u001b[0;34m]\u001b[0m \u001b[0;34m==\u001b[0m \u001b[0;36m255\u001b[0m\u001b[0;34m:\u001b[0m\u001b[0;34m\u001b[0m\u001b[0;34m\u001b[0m\u001b[0m\n\u001b[0;32m--> 395\u001b[0;31m             \u001b[0;32mraise\u001b[0m \u001b[0merrors\u001b[0m\u001b[0;34m.\u001b[0m\u001b[0mget_exception\u001b[0m\u001b[0;34m(\u001b[0m\u001b[0mpacket\u001b[0m\u001b[0;34m)\u001b[0m\u001b[0;34m\u001b[0m\u001b[0;34m\u001b[0m\u001b[0m\n\u001b[0m\u001b[1;32m    396\u001b[0m \u001b[0;34m\u001b[0m\u001b[0m\n\u001b[1;32m    397\u001b[0m         \u001b[0;31m# We have a text result set\u001b[0m\u001b[0;34m\u001b[0m\u001b[0;34m\u001b[0m\u001b[0;34m\u001b[0m\u001b[0m\n",
      "\u001b[0;31mProgrammingError\u001b[0m: 1050 (42S01): Table 'orders_and_order_history' already exists"
     ]
    }
   ],
   "source": [
    "! pip install mysql-connector\n",
    "\n",
    "import mysql.connector, csv\n",
    "## Make sure the Host matches your Cloud SQL instance\n",
    "host=\"146.148.81.114\"\n",
    "mydb = mysql.connector.connect(\n",
    "  host=host, \n",
    "  user=\"root\",\n",
    "  passwd=\"demotest123\"\n",
    ")\n",
    "\n",
    "cursor = mydb.cursor()\n",
    "cursor.execute(\"CREATE DATABASE IF NOT EXISTS inventory_datastudio\")\n",
    "mydb.database = \"inventory_datastudio\"\n",
    "cursor.execute(\"CREATE TABLE IF NOT EXISTS product_table (ProductName varchar(50),Description varchar(255),ProductSku bigint(12),QuantityInStock int(5),ReorderLevel int(5),WholeSaleCost decimal(8,2),RetailCost decimal(8,2));\")\n",
    "cursor.execute(\"CREATE TABLE IF NOT EXISTS order_history (CustomerName varchar(50),OrderDate varchar(255),OrderId bigint(12));\")\n",
    "cursor.execute(\"CREATE TABLE IF NOT EXISTS orders (OrderId bigint(12),ProductSku bigint(12), Price decimal(8,2));\")\n",
    "cursor.execute(\"CREATE VIEW orders_and_order_history AS SELECT t1.CustomerName, t1.OrderDate, t2.OrderId, t2.ProductSku, t2.Price FROM order_history t1, orders t2 WHERE t1.OrderId = t2.OrderId\")\n",
    "\n",
    "print(\"Database setup complete.\")\n",
    "with open('./data_files/lab4/Lab4_Inventory.csv') as datafile:\n",
    "    csv_data = csv.reader(datafile)\n",
    "    next(csv_data) \n",
    "    for row in csv_data:\n",
    "        cursor.execute (\"INSERT INTO product_table (ProductName,Description,ProductSku,QuantityInStock,ReorderLevel,WholeSaleCost,RetailCost) VALUES (%s, %s, %s, %s, %s, %s, %s)\",row)\n",
    "    mydb.commit()\n",
    "print(\"Success! Inventory Data inserted\")\n",
    "\n",
    "with open('./data_files/lab4/OrderHistory.csv') as datafile:\n",
    "    csv_data = csv.reader(datafile)\n",
    "    next(csv_data) \n",
    "    for row in csv_data:\n",
    "        cursor.execute (\"INSERT INTO order_history (CustomerName, OrderDate, OrderId) VALUES (%s, %s, %s)\",row)\n",
    "    mydb.commit()\n",
    "print(\"Success! Order History Data inserted\")\n",
    "\n",
    "with open('./data_files/lab4/Orders.csv') as datafile:\n",
    "    csv_data = csv.reader(datafile)\n",
    "    next(csv_data) \n",
    "    for row in csv_data:\n",
    "        cursor.execute (\"INSERT INTO orders (OrderId, ProductSku, Price) VALUES (%s, %s, %s)\",row)\n",
    "    mydb.commit()\n",
    "print(\"Success! Orders Data inserted\")\n",
    "\n",
    "\n",
    "mydb.close()"
   ]
  },
  {
   "cell_type": "markdown",
   "metadata": {},
   "source": [
    "#### **Lab:** Getting Started in GCP Data Studio\n",
    "1. First [Navigate to Data Studio](https://datastudio.google.com/u/1/navigation/reporting)\n",
    "\n",
    "2. Next click `Blank Report`  \n",
    "![BlankReport](./assets/lab4/lab4_blank_report.png)\n",
    "\n",
    "3. Navigate and Find `MySql` then enter the appropriate hostname, username, and password.  Select the orders_and_order_history view.  \n",
    "![Authenticate](./assets/lab4/lab4_sql_authenticate.png)\n",
    "\n",
    "4. Click `Add to Report` to add the data into the report.\n",
    "\n",
    "5. Next we will create a quick report on which customer's had the most expensive orders. On right most bar you can select both the dimension and metric.  For the dimension select `Customer Name` and for the metric select `Sum - Price`  \n",
    "![Report](./assets/lab4/lab4_dimension_metric.png)\n",
    "\n",
    "6. Take a look at the results, we can see John Smith had the largest Order.  \n",
    "![Order Chart](./assets/lab4/lab4_results.png)\n",
    "\n",
    "Play around with some of the other dimensions to understand some insights of the order table."
   ]
  },
  {
   "cell_type": "markdown",
   "metadata": {},
   "source": [
    "#### **Lab:** Finding the Most Commonly Sold Product\n",
    "\n",
    "In this lab we will add a separate table, perform data blending to join from the inventory table to the `orders_and_order_history` view, and find out which product we sell the most.\n",
    "\n",
    "1) Select `Add Data` to add another table to Data Studio.\n",
    "\n",
    "![Add Data](./assets/lab4/lab4_add_data.png)\n",
    "\n",
    "2) Add a `MySql` data source.  Enter the database and connection details similar to above.\n",
    "\n",
    "3) This time select `product_table` when it comes time to adding a table into the report.\n",
    "\n",
    "4) Select `Blend Data` to open the blend data wizard.\n",
    "\n",
    "![Blend Data](./assets/lab4/lab4_blend.png)\n",
    "\n",
    "5) Click `Add Another Data Source` and add the recently added table from the previous steps.  Ensure the join keys have `ProductSku` and that the inventory table has `ProductName` included.  Ensure in the `orders_and_order_history` datastore has count selected for `ProductSku`\n",
    "\n",
    "![datasource blending](./assets/lab4/lab4_datasources.png)\n",
    "\n",
    "6) Modify the chart to have a dimension of `ProductName`, a metric of count for `ProductSku` , and a sort by `ProductSku` _descending_.\n",
    "\n",
    "![graph creation](./assets/lab4/lab4_most_sold_products.png)\n",
    "\n",
    "We have successfully created a chart that shows are most sold products!  Your graph should look similar to below.\n",
    "\n",
    "![most sold products](./assets/lab4/lab4_productcount.png)"
   ]
  },
  {
   "cell_type": "markdown",
   "metadata": {},
   "source": [
    "#### **Lab:** Other Insights on Data\n",
    "\n",
    "1) Select `Add Data` to add another table to Data Studio.\n",
    "\n",
    "![Add Data](./assets/lab4/lab4_add_data.png)\n",
    "\n",
    "2) Select `My data sources` and find the previously added inventory data.\n",
    "\n",
    "3) Modify the chart to find the most expensive product that is sold.\n",
    "\n",
    "![Most expensive product](./assets/lab4/lab4_most_expensive.png)\n",
    "\n",
    "4) Next we will find the total retail value of our inventory.  Select `Add a chart`\n",
    "\n",
    "![add chart](./assets/lab4/lab4_add_chart.png)\n",
    "\n",
    "5) Select `Scorecard`\n",
    "\n",
    "6) Customize it to get the Sum of Retail Cost.\n",
    "\n",
    "![sum chart](./assets/lab4/lab4_chart_sum.png)"
   ]
  }
 ],
 "metadata": {
  "environment": {
   "name": "common-cpu.m49",
   "type": "gcloud",
   "uri": "gcr.io/deeplearning-platform-release/base-cpu:m49"
  },
  "kernelspec": {
   "display_name": "Python 3",
   "language": "python",
   "name": "python3"
  },
  "language_info": {
   "codemirror_mode": {
    "name": "ipython",
    "version": 3
   },
   "file_extension": ".py",
   "mimetype": "text/x-python",
   "name": "python",
   "nbconvert_exporter": "python",
   "pygments_lexer": "ipython3",
   "version": "3.7.6"
  }
 },
 "nbformat": 4,
 "nbformat_minor": 4
}